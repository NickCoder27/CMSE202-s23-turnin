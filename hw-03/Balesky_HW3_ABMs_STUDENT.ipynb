{
 "cells": [
  {
   "cell_type": "markdown",
   "metadata": {},
   "source": [
    "# Homework Assignment 3 (Individual)\n",
    "\n",
    "---"
   ]
  },
  {
   "cell_type": "markdown",
   "metadata": {},
   "source": [
    "### <p style=\"text-align: right;\"> &#9989; Nick Balesky</p>"
   ]
  },
  {
   "cell_type": "markdown",
   "metadata": {},
   "source": [
    "\n",
    "---\n",
    "## Creating a natural selection model using ABMs and OOP\n",
    "\n",
    "In this homework, we have two sections.\n",
    "\n",
    "- **Part A: Git practice**\n",
    "- **Part B: ABM + OOP: Simulating animal populations -- Natural selection and adaptation**\n",
    "\n",
    "<img src=\"https://raw.githubusercontent.com/huichiayu/cmse_202_802/main/IMGs/rock_mice.jpg\" border=\"0\" align=\"center\" width=\"600\">\n",
    "image found online.\n",
    "\n",
    "\n",
    "### Goal for this homework assignment\n",
    "By now, you have learned ABM and OOP through the assignments of assembling Zoo and Superbugs. Let's use those skills to build a simple fun model of natural selection. \n",
    "\n",
    "**This assignment is due roughly two weeks from now at 11:59 pm on Friday, March 31.** It should be uploaded into the \"Homework Assignments\" submission folder for Homework #3, as well as GitHub turn-in repo.  Submission instructions can be found at the end of the notebook. **The distribution of points can be found in the section headers**.\n"
   ]
  },
  {
   "cell_type": "markdown",
   "metadata": {},
   "source": [
    "---\n",
    "## Part 0: Upload this file to your Git repository to track your progress on your assignment (15 pt)\n",
    "\n",
    "#### Note: This is different from previous assignments!\n",
    "\n",
    "You will add this homework assignment to your GutHub repository you created for previous homework so that you can track your progress on the assignment and preserve the final version that you turn in. We also want you to get practice with **branching**, as that will be important and useful for your group projects. \n",
    "\n",
    "**&#9989; Do the following**:\n",
    "\n",
    "\n",
    "1. Navigate to your `cmse202-s23-turnin` repository \n",
    "2. Create a new branch called `hw03_branch` and move into it. \n",
    "3. Create a new directory called `hw-03`.\n",
    "4. Move this notebook into that **new directory**, then **add** and **commit** it. \n",
    "5. Finally, to test that everything is working, `git push` the file and new branch so they end up in your GitHub repository. \n",
    "\n",
    "**Important**: Make sure to add your Professor and TA as collaborators of this respository with \"Read\" access so that we can see your assignment (you should have done this in the previous homework assignment)\n",
    "\n",
    "**Also**: Make sure that the version of this notebook that you are working on is the same one that you just added to your repository! If you are working on a different copy of the noteobok, **none of your changes will be tracked**!\n",
    "\n",
    "If everything went as intended, the file should now show up on your GitHub account in the `cmse202-s23-turnin` repository inside the `hw-03` directory and `hw-03` branch that you just created.  Periodically, **you'll be asked to commit your changes and push them to the remote GitHub location**. Of course, you can always commit your changes more often than that, if you wish.  It will be good to develop a habit of committing your changes any time you make a significant modification, or when you stop working on the project for a bit.\n",
    "\n"
   ]
  },
  {
   "cell_type": "markdown",
   "metadata": {},
   "source": [
    "---\n",
    "\n",
    "# A natural selection model\n",
    "For this homework assignment, you will be building an Agent-Based Model (ABM) that simulates natural selection in action. You will build two classes for mice, which inhabit the world, and one class for a (predator) hawk. The mice have different fur color, which allows them to blend in better (or worse) with their environment. This model is (loosely) based on an actual case of natural selection involving the [Peppered Moth](https://en.wikipedia.org/wiki/Peppered_moth_evolution).\n",
    "\n",
    "For this assignment, you will be working with an environment class, which will allow you to actually run your simulation. We've also provided you with a generic `Animal_Agent`, which you will use to build your own classes for the natural selection model. You will need to download the generic `Animal_Agent` class and `Environment` class. You can find them here:\n",
    "\n",
    "- `https://raw.githubusercontent.com/msu-cmse-courses/cmse202-S23-data/main/HW/HW3/Animal_Agent_Class.py`\n",
    "- `https://raw.githubusercontent.com/msu-cmse-courses/cmse202-S23-data/main/HW/HW3/Environment.py`"
   ]
  },
  {
   "cell_type": "markdown",
   "metadata": {},
   "source": [
    "## 1. Building Up an Environment with Animal Agents\n",
    "\n",
    "\n",
    "\n",
    "### 1.1 (5 Points)\n",
    "\n",
    "Spend some time exploring the new classes a bit. **Write a few sentences giving a high-level description of how this model works. What are the different classes? What do they do? How can they be used to create an Agent-Based Model?**\n"
   ]
  },
  {
   "cell_type": "markdown",
   "metadata": {},
   "source": [
    "The different classes are Animal_Agent and Environment. Animal_Agent creates an animal (predator or prey) and gives functions for the animal to move, find prey, find mates, age, and procreate. The Environment class sets an environment for animals to move within. They can be used to create an ABM because the environment sets the area for the animals, Animal_Agent creates animals and gives them functions to simulate a real world experience and they move through the model and follow the rules outlined in the code to model live animal interactions"
   ]
  },
  {
   "cell_type": "markdown",
   "metadata": {},
   "source": [
    "### 1.2 (15 Points)\n",
    "\n",
    "Construct a new `Environment` object and a new `Animal_Agent` object. Specify that the `Animal_Agent` object is a female. Add the `Animal_Agent` object to the `Environment` object. Run the `simulation` method. You should see there's a bug in the code. **Fix the bug and explain what the cause was.**"
   ]
  },
  {
   "cell_type": "code",
   "execution_count": 1,
   "metadata": {},
   "outputs": [
    {
     "data": {
      "image/png": "[encoded data removed]",
      "text/plain": [
       "<Figure size 432x432 with 1 Axes>"
      ]
     },
     "metadata": {
      "needs_background": "light"
     },
     "output_type": "display_data"
    }
   ],
   "source": [
    "#Write your code here\n",
    "\n",
    "from Animal_Agent_Class import Animal_Agent\n",
    "from Environment import Environment\n",
    "\n",
    "world = Environment()\n",
    "\n",
    "female_animal = Animal_Agent(sex=\"F\")\n",
    "\n",
    "world.add_agent(female_animal)\n",
    "\n",
    "world.simulate(tot_time=100)"
   ]
  },
  {
   "cell_type": "markdown",
   "metadata": {},
   "source": [
    "*Explain the bug here.*\n",
    "\n",
    "The bug is the parameters dt and self.animal_agents were flipped to the last line below.\n",
    "                    \n",
    "        if agent.check_if_dead():\n",
    "            del agent\n",
    "        else:\n",
    "            temp_agents.append(agent)\n",
    "            temp_new_agents = agent.procreate(dt, self.animal_agents)\n",
    "\n",
    "The line should read: temp_new_agents = agent.procreate(self.animal_agents, dt)\n"
   ]
  },
  {
   "cell_type": "markdown",
   "metadata": {},
   "source": [
    "### 1.3 (5 Points)\n",
    "\n",
    "**In the cell below, copy your `simulation` code from above and rerun it with the bug fixed to show how the animal runs around.** You should use the `set_allele()` method in the `Animal_Agent` class to randomly assign two alleles to your `Animal_Agent` object.\n"
   ]
  },
  {
   "cell_type": "code",
   "execution_count": 2,
   "metadata": {},
   "outputs": [],
   "source": [
    "#Write your code here\n",
    "\n",
    "def simulate(self,tot_time):\n",
    "    for dt in range(tot_time):\n",
    "        clear_output(wait=True)\n",
    "        plt.figure(figsize=(6, 6))    \n",
    "        plt.imshow(self.environ) \n",
    "        ax = plt.gca()   \n",
    "            \n",
    "        # loop over each animal\n",
    "        temp_agents = []\n",
    "        temp_hunted_agents = []\n",
    "        for agent in self.animal_agents:\n",
    "            agent.roaming()\n",
    "            agent.draw(ax)\n",
    "                \n",
    "            if agent.ptype == \"Prey\":\n",
    "                agent.aging()\n",
    "                    \n",
    "                if agent.check_if_dead():\n",
    "                    del agent\n",
    "                else:\n",
    "                    temp_agents.append(agent)\n",
    "                    temp_new_agents = agent.procreate(self.animal_agents, dt)\n",
    "                    if len(temp_new_agents) > 0:\n",
    "                        temp_agents.extend(temp_new_agents)\n",
    "            elif agent.ptype == \"Predator\":\n",
    "                caught_prey = agent.hunt(self.animal_agents)\n",
    "                if caught_prey:\n",
    "                    temp_hunted_agents.append(caught_prey)\n",
    "                temp_agents.append(agent)\n",
    "            \n",
    "        for agent in temp_hunted_agents:\n",
    "            temp_agents.remove(agent)        \n",
    "        self.animal_agents.clear\n",
    "        self.animal_agents = temp_agents\n",
    "        plt.xlim(0,self.xsize)\n",
    "        plt.ylim(0,self.ysize)\n",
    "        plt.show()   \n",
    "        time.sleep(0.001)"
   ]
  },
  {
   "cell_type": "markdown",
   "metadata": {},
   "source": [
    "### 1.4 (5 Points)\n",
    "\n",
    "**Now add in a predator and let it evolve. Do you see the predator hunting the prey object?** Make sure to set the `ptype` to predator, and the `shape` and `color` to be something different from the prey you defined above (E.g., a shape of \"P\" and a color of \"red\".)"
   ]
  },
  {
   "cell_type": "code",
   "execution_count": 3,
   "metadata": {},
   "outputs": [
    {
     "data": {
      "image/png": "[encoded data removed]",
      "text/plain": [
       "<Figure size 432x432 with 1 Axes>"
      ]
     },
     "metadata": {
      "needs_background": "light"
     },
     "output_type": "display_data"
    }
   ],
   "source": [
    "#Write your code here\n",
    "new_world = Environment()\n",
    "\n",
    "female_animal = Animal_Agent(sex=\"F\")\n",
    "\n",
    "pred = Animal_Agent(ptype=\"Predator\", shape=\"P\", color=\"red\")\n",
    "\n",
    "new_world.add_agent(female_animal)\n",
    "new_world.add_agent(pred)\n",
    "\n",
    "new_world.simulate(tot_time=100)"
   ]
  },
  {
   "cell_type": "markdown",
   "metadata": {},
   "source": [
    "### 1.5 (15 Points)\n",
    "\n",
    "**Now add *multiple* predator and prey agents ($N > 1$ for both). Find a combination of $N_{\\mathrm{Prey}}$ and $N_{\\mathrm{Predator}}$ where the Prey can maintain a sustainable population (I.e., they aren't wiped out in the long run).**\n",
    "\n",
    "- **NOTE 1:** Make sure you add both male and female Prey, so they can `Procreate`. \n",
    "- **NOTE 2:** We recommend using the `simulate_plot_populations()` method, so you can monitor the growth/decline of populations."
   ]
  },
  {
   "cell_type": "code",
   "execution_count": 59,
   "metadata": {},
   "outputs": [
    {
     "data": {
      "image/png": "[encoded data removed]",
      "text/plain": [
       "<Figure size 432x288 with 1 Axes>"
      ]
     },
     "metadata": {
      "needs_background": "light"
     },
     "output_type": "display_data"
    }
   ],
   "source": [
    "from Animal_Agent_Class import Animal_Agent\n",
    "from Environment import Environment\n",
    "import random\n",
    "import numpy as np\n",
    "\n",
    "world = Environment()\n",
    "\n",
    "N_Prey = 47\n",
    "N_Predator = 3\n",
    "\n",
    "for i in range(N_Prey):\n",
    "    sex = random.choice([\"M\", \"F\"])\n",
    "    allele_1 = random.choice([0, 1])\n",
    "    allele_2 = random.choice([0, 1])\n",
    "    new_prey = Animal_Agent(sex=sex, ptype='Prey')\n",
    "    new_prey.set_allele(allele_1, allele_2)\n",
    "    world.add_agent(new_prey)\n",
    "    \n",
    "for i in range(N_Predator):\n",
    "    sex = random.choice([\"M\", \"F\"])\n",
    "    new_predator = Animal_Agent(sex=sex, ptype='Predator', shape='P', color='red')\n",
    "    world.add_agent(new_predator)\n",
    "\n",
    "world.simulate_plot_populations(200)"
   ]
  },
  {
   "cell_type": "markdown",
   "metadata": {},
   "source": [
    "### 1.6 (5 Points)\n",
    "\n",
    "**How does the population evolve over time? (I.e., is it linear? Periodic? etc.) What causes this shape? How does the population of light brown and dark brown prey differ (if at all)?**"
   ]
  },
  {
   "cell_type": "markdown",
   "metadata": {},
   "source": [
    "The graph forms a staircase or \"steps\" shape because the populations are constant for a period of time and then there is a shift and the population changes then remains constant for a period of time before shifting again"
   ]
  },
  {
   "cell_type": "markdown",
   "metadata": {},
   "source": [
    "## 2. Refining the Model\n",
    "\n",
    "For this part, we're going to use our generic `Animal_Agent`class to construct child classes that represent *specific* animal species for both our predator and prey animals. Specifically, we'll be making a `Mouse` child class for the prey and a `Hawk` child class for the predator. **We'll use these new child classes to run our natural selection model.**\n",
    "\n",
    "### 2.1 (15 Points)\n",
    "\n",
    "Create a new `Mouse` child class, using the `Animal_Agent` as the parent class. The `Mouse` class will largely be the same as the `Animal_Agent` class except for two details: \n",
    "\n",
    "1. **In the `set_allele` method, add a new class attribute called `catch_probability`. For the light-brown mice, set `catch_probability` to 0.95. For dark brown mice, set the `catch_probability` to 0.05.**\n",
    "2. **Change the `Procreate` method so that they create new `Mouse` animal objects.**\n",
    "\n"
   ]
  },
  {
   "cell_type": "code",
   "execution_count": 50,
   "metadata": {},
   "outputs": [],
   "source": [
    "class Mouse(Animal_Agent):\n",
    "    def __init__(self,xmax=100,ymax=100,ptype=\"Prey\",sex=\"M\",age_limit=50,catch_radius=10,mate_range=5,gestation=8,shape=\"o\",color=\"saddlebrown\",saturation_pop=150):\n",
    "        \n",
    "        self.x = random.randint(0, xmax)\n",
    "        self.y = random.randint(0, ymax)\n",
    "        self.age = 0 \n",
    "        self.ptype = ptype\n",
    "        self.age_limit = age_limit\n",
    "        self.catch_radius = catch_radius\n",
    "        self.xmax = xmax\n",
    "        self.ymax = ymax\n",
    "        self.sex = sex\n",
    "        self.gestation = gestation\n",
    "        self.last_litter_time = 1\n",
    "        self.mate_range = mate_range \n",
    "        self.color = color\n",
    "        self.shape = shape\n",
    "        self.saturation_pop = saturation_pop\n",
    "        self.is_caught = False\n",
    "            \n",
    "    def set_allele(self, alle_d, alle_m):\n",
    "        '''\n",
    "        Method to set the alleles of this mouse: alle_d and alle_m from dad and mom, respectively.\n",
    "        The values is either 0 or 1 for each allele. \n",
    "        0 and 1 are recessive and dominant gene expressions, respectively.\n",
    "        This setup will result in three types of fur_color expressions: \n",
    "        type0 ==> (0,0): 0 = 0 + 0; recessive, dark color\n",
    "        type1 ==> (0,1) or (1,0): 1 = 0 + 1 = 1 + 0; dominant, light color\n",
    "        type2 ==> (1,1): 2 = 1 + 1; dominant, light color\n",
    "        '''\n",
    "        \n",
    "        self.alle_d = alle_d\n",
    "        self.alle_m = alle_m\n",
    "        \n",
    "        # Here we set light animal color to be dominant.\n",
    "        if self.alle_d + self.alle_m >= 1:\n",
    "            self.color = 'goldenrod'\n",
    "            self.catch_probability = 0.95\n",
    "            \n",
    "        else:\n",
    "            self.color = \"saddlebrown\"\n",
    "            self.catch_probability = 0.05\n",
    "            \n",
    "    def get_allele_d(self):\n",
    "        return self.alle_d\n",
    "    \n",
    "    def get_allele_m(self):\n",
    "        return self.alle_m\n",
    "    \n",
    "    def get_catch_probability(self, alle_d, alle_m):\n",
    "        '''\n",
    "        Method to set the alleles of this mouse: alle_d and alle_m from dad and mom, respectively.\n",
    "        The values is either 0 or 1 for each allele. \n",
    "        0 and 1 are recessive and dominant gene expressions, respectively.\n",
    "        This setup will result in three types of fur_color expressions: \n",
    "        type0 ==> (0,0): 0 = 0 + 0; recessive, dark color\n",
    "        type1 ==> (0,1) or (1,0): 1 = 0 + 1 = 1 + 0; dominant, light color\n",
    "        type2 ==> (1,1): 2 = 1 + 1; dominant, light color\n",
    "        '''\n",
    "        \n",
    "        self.alle_d = alle_d\n",
    "        self.alle_m = alle_m\n",
    "        \n",
    "        # Here we set light animal color to be dominant.\n",
    "        if self.alle_d + self.alle_m >= 1:\n",
    "            self.color = 'goldenrod'\n",
    "            self.catch_probability = 0.95\n",
    "            \n",
    "        else:\n",
    "            self.color = \"saddlebrown\"\n",
    "            self.catch_probability = 0.05\n",
    "        \n",
    "        return self.catch_probability\n",
    "    \n",
    "    def Procreate(self):\n",
    "        # Generate a new mouse with the same position\n",
    "        return Mouse(self.x, self.y)"
   ]
  },
  {
   "cell_type": "markdown",
   "metadata": {},
   "source": [
    "### 2.2 (10 Points)\n",
    "\n",
    "Create a new `Hawk` child class, using the `Animal_Agent` as the parent class. The `Hawk` class will largely be the same as the `Animal_Agent` class except for one detail: **In the `hunt` method, incorporate the `catch_probability` of the predator, such that it is harder for a `Hawk` to catch a `Mouse` with a lower `catch_probability`.**"
   ]
  },
  {
   "cell_type": "code",
   "execution_count": 51,
   "metadata": {},
   "outputs": [],
   "source": [
    "class Hawk(Animal_Agent):\n",
    "    def __init__(self,xmax=100,ymax=100,ptype=\"Prey\",sex=\"M\",age_limit=50,catch_radius=10,mate_range=5,gestation=8,shape=\"o\",color=\"saddlebrown\",saturation_pop=150):\n",
    "        \n",
    "        self.x = random.randint(0, xmax)\n",
    "        self.y = random.randint(0, ymax)\n",
    "        self.age = 0 \n",
    "        self.ptype = ptype\n",
    "        self.age_limit = age_limit\n",
    "        self.catch_radius = catch_radius\n",
    "        self.xmax = xmax\n",
    "        self.ymax = ymax\n",
    "        self.sex = sex\n",
    "        self.gestation = gestation\n",
    "        self.last_litter_time = 1\n",
    "        self.mate_range = mate_range \n",
    "        self.color = color\n",
    "        self.shape = shape\n",
    "        self.saturation_pop = saturation_pop\n",
    "        self.is_caught = False\n",
    "    \n",
    "    def hunt(self,all_agents):\n",
    "        '''\n",
    "        Method for a predator to find prey. If the predator finds prey, the method sets the is_caught flag \n",
    "        and returns the prey object so it can be removed from the environment. \n",
    "\n",
    "        all_agents (list): A list of all of the animal agent objects \n",
    "        '''\n",
    "        \n",
    "        for agent in all_agents:\n",
    "            if (agent.ptype == \"Prey\") and (agent.age < agent.age_limit) and not (agent.is_caught):\n",
    "                if self.get_distance(agent) < self.catch_radius:\n",
    "                    var = random.randint(0, 1)\n",
    "                    if var < Mouse.get_catch_probability(agent, Mouse.get_allele_d(agent), Mouse.get_allele_m(agent)):\n",
    "                        agent.is_caught = True\n",
    "                        return agent       \n",
    "            return False"
   ]
  },
  {
   "cell_type": "markdown",
   "metadata": {},
   "source": [
    "### 2.3 (5 Points)\n",
    "\n",
    "**Repeat problem 1.5, replacing the generic prey with the `Mice` animals, and the generic predators with the `Hawk` animals.**"
   ]
  },
  {
   "cell_type": "code",
   "execution_count": 61,
   "metadata": {},
   "outputs": [
    {
     "data": {
      "image/png": "[encoded data removed]",
      "text/plain": [
       "<Figure size 432x288 with 1 Axes>"
      ]
     },
     "metadata": {
      "needs_background": "light"
     },
     "output_type": "display_data"
    }
   ],
   "source": [
    "from Animal_Agent_Class import Animal_Agent\n",
    "from Environment import Environment\n",
    "import random\n",
    "import numpy as np\n",
    "\n",
    "world = Environment()\n",
    "\n",
    "N_Prey = 47\n",
    "N_Predator = 3\n",
    "\n",
    "for i in range(N_Prey):\n",
    "    sex = random.choice([\"M\", \"F\"])\n",
    "    allele_1 = random.choice([0, 1])\n",
    "    allele_2 = random.choice([0, 1])\n",
    "    new_prey = Mouse(sex=sex, ptype='Prey')\n",
    "    new_prey.set_allele(allele_1, allele_2)\n",
    "    world.add_agent(new_prey)\n",
    "    \n",
    "for i in range(N_Predator):\n",
    "    sex = random.choice([\"M\", \"F\"])\n",
    "    new_predator = Hawk(sex=sex, ptype='Predator', shape='P', color='red')\n",
    "    world.add_agent(new_predator)\n",
    "\n",
    "world.simulate_plot_populations(200)"
   ]
  },
  {
   "cell_type": "markdown",
   "metadata": {},
   "source": [
    "### 2.4 (5 Points)\n",
    "\n",
    "**Describe the differences between your results using the `Hawk` and `Mouse` class and the results from part 1.5. If and how does this model capture the effects of natural selection?**"
   ]
  },
  {
   "cell_type": "markdown",
   "metadata": {},
   "source": [
    "The difference using the Hawk and Mouse class and the results in 1.5 is that over time (many simulations), the mice populations grow further apart based on color. The color with a lower catch_probability becomes more popular and the high catch_probability mice die because they are killed by the predators easier. This translates to natural selection because it's the survival of the fittest and the colors with a better chance of surviving will become more popular far in the future."
   ]
  },
  {
   "cell_type": "markdown",
   "metadata": {},
   "source": [
    "---\n",
    "### &#128721; STOP\n",
    "**Pause to commit your changes and push to your Git repository!**\n",
    "\n",
    "## Git push, and then merge your `hw03_branch` into your `main` branch."
   ]
  },
  {
   "cell_type": "markdown",
   "metadata": {},
   "source": []
  }
 ],
 "metadata": {
  "kernelspec": {
   "display_name": "Python 3",
   "language": "python",
   "name": "python3"
  },
  "language_info": {
   "codemirror_mode": {
    "name": "ipython",
    "version": 3
   },
   "file_extension": ".py",
   "mimetype": "text/x-python",
   "name": "python",
   "nbconvert_exporter": "python",
   "pygments_lexer": "ipython3",
   "version": "3.8.8"
  }
 },
 "nbformat": 4,
 "nbformat_minor": 2
}
